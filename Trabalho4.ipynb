{
 "cells": [
  {
   "cell_type": "markdown",
   "metadata": {},
   "source": [
    "# Teoria de Filas"
   ]
  },
  {
   "cell_type": "code",
   "execution_count": 47,
   "metadata": {
    "collapsed": true
   },
   "outputs": [],
   "source": [
    "import math"
   ]
  },
  {
   "cell_type": "markdown",
   "metadata": {},
   "source": [
    "## Função:"
   ]
  },
  {
   "cell_type": "code",
   "execution_count": 51,
   "metadata": {
    "collapsed": false
   },
   "outputs": [],
   "source": [
    "def teoriafilas(lam, u, s=1):\n",
    "    \n",
    "    #calculo do \\rho:\n",
    "    rho = lam/(u*s) \n",
    "    \n",
    "    #calculo do Pzero:\n",
    "    pzero = 0\n",
    "    for n in range (s):\n",
    "        pzero += (((lam/u)**n)/math.factorial(n))+(((lam/u)**s)/(math.factorial(s)*(1-(lam/(s*u)))))\n",
    "    pzero = pzero**(-1)\n",
    "    \n",
    "    #calculo do P:\n",
    "    p = (((lam/u)**s)/(math.factorial(s)*(1-(lam/(s*u)))))*pzero\n",
    "    \n",
    "    #calculo do Lq:\n",
    "    Lq = ((((lam/u)**s)*lam*u*s)/(math.factorial(s)*((u*s-lam)**2)))*pzero\n",
    "    \n",
    "    #calculo do L:\n",
    "    L= Lq+(lam/u)\n",
    "    \n",
    "    #calculo do tempo medio:\n",
    "    Wq = Lq/lam\n",
    "    \n",
    "    #calculo do tempo provavel:\n",
    "    W = L/lam\n",
    "    \n",
    "    return(rho, pzero, p, L, Lq, W, Wq)\n",
    "    "
   ]
  },
  {
   "cell_type": "markdown",
   "metadata": {},
   "source": [
    "## Teste:"
   ]
  },
  {
   "cell_type": "code",
   "execution_count": 52,
   "metadata": {
    "collapsed": false
   },
   "outputs": [
    {
     "data": {
      "text/plain": [
       "(0.4494025845791382,\n",
       " 0.18240084726120928,\n",
       " 0.135304391975572,\n",
       " 1.458644420811582,\n",
       " 0.11043666707416762,\n",
       " 0.05538797009886254,\n",
       " 0.004193525664273026)"
      ]
     },
     "execution_count": 52,
     "metadata": {},
     "output_type": "execute_result"
    }
   ],
   "source": [
    "teoriafilas(26.33504023, 19.53336951, 3)"
   ]
  },
  {
   "cell_type": "markdown",
   "metadata": {},
   "source": [
    "## Teste com demanda em dobro:"
   ]
  },
  {
   "cell_type": "code",
   "execution_count": 53,
   "metadata": {
    "collapsed": false
   },
   "outputs": [
    {
     "data": {
      "text/plain": [
       "(0.8988051691582764,\n",
       " 0.009597121218111675,\n",
       " 0.30987878866418167,\n",
       " 5.448736498054859,\n",
       " 2.75232099058003,\n",
       " 0.10345031658329953,\n",
       " 0.052255872148710025)"
      ]
     },
     "execution_count": 53,
     "metadata": {},
     "output_type": "execute_result"
    }
   ],
   "source": [
    "teoriafilas(26.33504023*2, 19.53336951, 3)"
   ]
  }
 ],
 "metadata": {
  "kernelspec": {
   "display_name": "Python 3",
   "language": "python",
   "name": "python3"
  },
  "language_info": {
   "codemirror_mode": {
    "name": "ipython",
    "version": 3
   },
   "file_extension": ".py",
   "mimetype": "text/x-python",
   "name": "python",
   "nbconvert_exporter": "python",
   "pygments_lexer": "ipython3",
   "version": "3.5.1"
  }
 },
 "nbformat": 4,
 "nbformat_minor": 0
}
