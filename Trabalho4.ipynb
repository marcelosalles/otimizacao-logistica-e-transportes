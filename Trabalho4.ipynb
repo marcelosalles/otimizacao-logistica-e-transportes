{
 "cells": [
  {
   "cell_type": "markdown",
   "metadata": {},
   "source": [
    "# Teoria de Filas\n",
    "*Marcelo Salles Olinger*\n",
    "****\n",
    "\n",
    "\n",
    "## Dados coletados:"
   ]
  },
  {
   "cell_type": "code",
   "execution_count": 1,
   "metadata": {
    "collapsed": false
   },
   "outputs": [
    {
     "data": {
      "text/html": [
       "<div>\n",
       "<table border=\"1\" class=\"dataframe\">\n",
       "  <thead>\n",
       "    <tr style=\"text-align: right;\">\n",
       "      <th></th>\n",
       "      <th>ENTRADA (h)</th>\n",
       "      <th>SAIDA (h)</th>\n",
       "      <th>SAIDA-ENTRADA (min)</th>\n",
       "    </tr>\n",
       "  </thead>\n",
       "  <tbody>\n",
       "    <tr>\n",
       "      <th>0</th>\n",
       "      <td>0.000000</td>\n",
       "      <td>0.014167</td>\n",
       "      <td>0.850000</td>\n",
       "    </tr>\n",
       "    <tr>\n",
       "      <th>1</th>\n",
       "      <td>0.006389</td>\n",
       "      <td>0.035833</td>\n",
       "      <td>1.766667</td>\n",
       "    </tr>\n",
       "    <tr>\n",
       "      <th>2</th>\n",
       "      <td>0.008333</td>\n",
       "      <td>0.037500</td>\n",
       "      <td>1.750000</td>\n",
       "    </tr>\n",
       "    <tr>\n",
       "      <th>3</th>\n",
       "      <td>0.048056</td>\n",
       "      <td>0.075278</td>\n",
       "      <td>1.633333</td>\n",
       "    </tr>\n",
       "    <tr>\n",
       "      <th>4</th>\n",
       "      <td>0.052222</td>\n",
       "      <td>0.080278</td>\n",
       "      <td>1.683333</td>\n",
       "    </tr>\n",
       "    <tr>\n",
       "      <th>5</th>\n",
       "      <td>0.064167</td>\n",
       "      <td>0.099167</td>\n",
       "      <td>2.100000</td>\n",
       "    </tr>\n",
       "    <tr>\n",
       "      <th>6</th>\n",
       "      <td>0.083333</td>\n",
       "      <td>0.135000</td>\n",
       "      <td>3.100000</td>\n",
       "    </tr>\n",
       "    <tr>\n",
       "      <th>7</th>\n",
       "      <td>0.104167</td>\n",
       "      <td>0.136111</td>\n",
       "      <td>1.916667</td>\n",
       "    </tr>\n",
       "    <tr>\n",
       "      <th>8</th>\n",
       "      <td>0.113056</td>\n",
       "      <td>0.156667</td>\n",
       "      <td>2.616667</td>\n",
       "    </tr>\n",
       "    <tr>\n",
       "      <th>9</th>\n",
       "      <td>0.126667</td>\n",
       "      <td>0.162222</td>\n",
       "      <td>2.133333</td>\n",
       "    </tr>\n",
       "    <tr>\n",
       "      <th>10</th>\n",
       "      <td>0.153056</td>\n",
       "      <td>0.165278</td>\n",
       "      <td>0.733333</td>\n",
       "    </tr>\n",
       "    <tr>\n",
       "      <th>11</th>\n",
       "      <td>0.212222</td>\n",
       "      <td>0.246944</td>\n",
       "      <td>2.083333</td>\n",
       "    </tr>\n",
       "    <tr>\n",
       "      <th>12</th>\n",
       "      <td>0.230000</td>\n",
       "      <td>0.250278</td>\n",
       "      <td>1.216667</td>\n",
       "    </tr>\n",
       "    <tr>\n",
       "      <th>13</th>\n",
       "      <td>0.243611</td>\n",
       "      <td>0.304167</td>\n",
       "      <td>3.633333</td>\n",
       "    </tr>\n",
       "    <tr>\n",
       "      <th>14</th>\n",
       "      <td>0.286667</td>\n",
       "      <td>0.338611</td>\n",
       "      <td>3.116667</td>\n",
       "    </tr>\n",
       "    <tr>\n",
       "      <th>15</th>\n",
       "      <td>0.292500</td>\n",
       "      <td>0.383333</td>\n",
       "      <td>5.450000</td>\n",
       "    </tr>\n",
       "    <tr>\n",
       "      <th>16</th>\n",
       "      <td>0.370278</td>\n",
       "      <td>0.403889</td>\n",
       "      <td>2.016667</td>\n",
       "    </tr>\n",
       "    <tr>\n",
       "      <th>17</th>\n",
       "      <td>0.381389</td>\n",
       "      <td>0.427222</td>\n",
       "      <td>2.750000</td>\n",
       "    </tr>\n",
       "    <tr>\n",
       "      <th>18</th>\n",
       "      <td>0.436667</td>\n",
       "      <td>0.451111</td>\n",
       "      <td>0.866667</td>\n",
       "    </tr>\n",
       "    <tr>\n",
       "      <th>19</th>\n",
       "      <td>0.454722</td>\n",
       "      <td>0.499444</td>\n",
       "      <td>2.683333</td>\n",
       "    </tr>\n",
       "    <tr>\n",
       "      <th>20</th>\n",
       "      <td>0.495000</td>\n",
       "      <td>0.511944</td>\n",
       "      <td>1.016667</td>\n",
       "    </tr>\n",
       "    <tr>\n",
       "      <th>21</th>\n",
       "      <td>0.510556</td>\n",
       "      <td>0.521389</td>\n",
       "      <td>0.650000</td>\n",
       "    </tr>\n",
       "    <tr>\n",
       "      <th>22</th>\n",
       "      <td>0.527500</td>\n",
       "      <td>0.559444</td>\n",
       "      <td>1.916667</td>\n",
       "    </tr>\n",
       "    <tr>\n",
       "      <th>23</th>\n",
       "      <td>0.566389</td>\n",
       "      <td>0.602778</td>\n",
       "      <td>2.183333</td>\n",
       "    </tr>\n",
       "    <tr>\n",
       "      <th>24</th>\n",
       "      <td>0.597222</td>\n",
       "      <td>0.633056</td>\n",
       "      <td>2.150000</td>\n",
       "    </tr>\n",
       "    <tr>\n",
       "      <th>25</th>\n",
       "      <td>0.673889</td>\n",
       "      <td>0.723889</td>\n",
       "      <td>3.000000</td>\n",
       "    </tr>\n",
       "    <tr>\n",
       "      <th>26</th>\n",
       "      <td>0.715278</td>\n",
       "      <td>0.754444</td>\n",
       "      <td>2.350000</td>\n",
       "    </tr>\n",
       "    <tr>\n",
       "      <th>27</th>\n",
       "      <td>0.723056</td>\n",
       "      <td>0.755833</td>\n",
       "      <td>1.966667</td>\n",
       "    </tr>\n",
       "    <tr>\n",
       "      <th>28</th>\n",
       "      <td>1.010278</td>\n",
       "      <td>1.028611</td>\n",
       "      <td>1.100000</td>\n",
       "    </tr>\n",
       "    <tr>\n",
       "      <th>29</th>\n",
       "      <td>1.139167</td>\n",
       "      <td>1.155833</td>\n",
       "      <td>1.000000</td>\n",
       "    </tr>\n",
       "  </tbody>\n",
       "</table>\n",
       "</div>"
      ],
      "text/plain": [
       "    ENTRADA (h)  SAIDA (h)  SAIDA-ENTRADA (min)\n",
       "0      0.000000   0.014167             0.850000\n",
       "1      0.006389   0.035833             1.766667\n",
       "2      0.008333   0.037500             1.750000\n",
       "3      0.048056   0.075278             1.633333\n",
       "4      0.052222   0.080278             1.683333\n",
       "5      0.064167   0.099167             2.100000\n",
       "6      0.083333   0.135000             3.100000\n",
       "7      0.104167   0.136111             1.916667\n",
       "8      0.113056   0.156667             2.616667\n",
       "9      0.126667   0.162222             2.133333\n",
       "10     0.153056   0.165278             0.733333\n",
       "11     0.212222   0.246944             2.083333\n",
       "12     0.230000   0.250278             1.216667\n",
       "13     0.243611   0.304167             3.633333\n",
       "14     0.286667   0.338611             3.116667\n",
       "15     0.292500   0.383333             5.450000\n",
       "16     0.370278   0.403889             2.016667\n",
       "17     0.381389   0.427222             2.750000\n",
       "18     0.436667   0.451111             0.866667\n",
       "19     0.454722   0.499444             2.683333\n",
       "20     0.495000   0.511944             1.016667\n",
       "21     0.510556   0.521389             0.650000\n",
       "22     0.527500   0.559444             1.916667\n",
       "23     0.566389   0.602778             2.183333\n",
       "24     0.597222   0.633056             2.150000\n",
       "25     0.673889   0.723889             3.000000\n",
       "26     0.715278   0.754444             2.350000\n",
       "27     0.723056   0.755833             1.966667\n",
       "28     1.010278   1.028611             1.100000\n",
       "29     1.139167   1.155833             1.000000"
      ]
     },
     "execution_count": 1,
     "metadata": {},
     "output_type": "execute_result"
    }
   ],
   "source": [
    "import pandas\n",
    "df = pandas.read_csv('C:\\\\Users\\\\user\\\\Desktop\\\\TRABALHO-4.csv', sep=';')\n",
    "df"
   ]
  },
  {
   "cell_type": "markdown",
   "metadata": {},
   "source": [
    "## Respostas:\n",
    "\n",
    "   *a)* O levantamento dos dados foi feito no domingo, dia 14/6/2016, no Cinespaço Beiramar, cinema do Beiramar Shopping.\n",
    "   O início dos levantamentos foi às **19:47h**, e durou **1:09h**.\n",
    "\n",
    "   *b)* No local havia **3** atendentes.\n",
    "   $$S = 3$$\n",
    "   \n",
    "   *c)* **30** pessoas chegaram à fila durante o levantamento de 1 hora, 9 minutos e 21 segundos (**1.1558 horas**):"
   ]
  },
  {
   "cell_type": "code",
   "execution_count": 2,
   "metadata": {
    "collapsed": false
   },
   "outputs": [
    {
     "name": "stdout",
     "output_type": "stream",
     "text": [
      "O tempo médio entre as chegadas à fila é 2.3116 minutos.\n"
     ]
    }
   ],
   "source": [
    "tempo_medio = 1.1558 / 30\n",
    "print(\"O tempo médio entre as chegadas à fila é\", tempo_medio*60, \"minutos.\")\n"
   ]
  },
  {
   "cell_type": "markdown",
   "metadata": {},
   "source": [
    "*d)* A taxa de chegada de usuários no sistema:"
   ]
  },
  {
   "cell_type": "code",
   "execution_count": 3,
   "metadata": {
    "collapsed": false
   },
   "outputs": [
    {
     "name": "stdout",
     "output_type": "stream",
     "text": [
      "25.956047759127877\n"
     ]
    }
   ],
   "source": [
    "taxa_de_chegada = 1 / tempo_medio\n",
    "print(taxa_de_chegada)"
   ]
  },
  {
   "cell_type": "markdown",
   "metadata": {},
   "source": [
    "$$\\Lambda = 25.956\\ clientes/hora$$"
   ]
  },
  {
   "cell_type": "markdown",
   "metadata": {},
   "source": [
    "*e)* O tempo médio de atendimento de cada cliente foi **2,0478 minutos**:\n"
   ]
  },
  {
   "cell_type": "code",
   "execution_count": 4,
   "metadata": {
    "collapsed": false
   },
   "outputs": [
    {
     "data": {
      "text/plain": [
       "2.0477777777777777"
      ]
     },
     "execution_count": 4,
     "metadata": {},
     "output_type": "execute_result"
    }
   ],
   "source": [
    "pandas.DataFrame.mean(df['SAIDA-ENTRADA (min)'])"
   ]
  },
  {
   "cell_type": "markdown",
   "metadata": {},
   "source": [
    "*f)* A taxa de atendimento dos usuários (μ):"
   ]
  },
  {
   "cell_type": "code",
   "execution_count": 5,
   "metadata": {
    "collapsed": false
   },
   "outputs": [
    {
     "name": "stdout",
     "output_type": "stream",
     "text": [
      "29.299736302373276\n"
     ]
    }
   ],
   "source": [
    "taxa_de_atendimento = 60 / 2.0478\n",
    "print(taxa_de_atendimento)"
   ]
  },
  {
   "cell_type": "markdown",
   "metadata": {},
   "source": [
    "$$\\mu = 29.300\\ clientes/hora$$"
   ]
  },
  {
   "cell_type": "markdown",
   "metadata": {},
   "source": [
    "## Função:\n",
    "\n",
    "Após definir os valores de S, lambda e μ, foi desenvolvida uma função em linguagem Python para encontrar os valores das outras variáveis:"
   ]
  },
  {
   "cell_type": "code",
   "execution_count": 6,
   "metadata": {
    "collapsed": true
   },
   "outputs": [],
   "source": [
    "import math\n",
    "from IPython.display import display, Math, Latex"
   ]
  },
  {
   "cell_type": "code",
   "execution_count": 7,
   "metadata": {
    "collapsed": false
   },
   "outputs": [],
   "source": [
    "def teoriafilas(lam, u, s=1):\n",
    "    \n",
    "    #calculo do \\rho:\n",
    "    rho = lam/(u*s) \n",
    "    \n",
    "    #calculo do Pzero:\n",
    "    pzero = 0\n",
    "    for n in range (s):\n",
    "        pzero += (((lam/u)**n)/math.factorial(n))+(((lam/u)**s)/(math.factorial(s)*(1-(lam/(s*u)))))\n",
    "    pzero = pzero**(-1)\n",
    "    \n",
    "    #calculo do P:\n",
    "    p = (((lam/u)**s)/(math.factorial(s)*(1-(lam/(s*u)))))*pzero\n",
    "    \n",
    "    #calculo do Lq:\n",
    "    Lq = ((((lam/u)**s)*lam*u*s)/(math.factorial(s)*((u*s-lam)**2)))*pzero\n",
    "    \n",
    "    #calculo do L:\n",
    "    L= Lq+(lam/u)\n",
    "    \n",
    "    #calculo do tempo medio:\n",
    "    Wq = Lq/lam\n",
    "    \n",
    "    #calculo do tempo provavel:\n",
    "    W = L/lam\n",
    "    \n",
    "    return (rho, pzero, p, Lq, L, Wq*60, W*60)\n",
    "    "
   ]
  },
  {
   "cell_type": "markdown",
   "metadata": {},
   "source": [
    "### Para os valores de S, lambda e μ obtidos:"
   ]
  },
  {
   "cell_type": "code",
   "execution_count": 8,
   "metadata": {
    "collapsed": false
   },
   "outputs": [
    {
     "data": {
      "text/plain": [
       "(0.2952933033396782,\n",
       " 0.360809821830732,\n",
       " 0.059325753228791855,\n",
       " 0.02485927510986699,\n",
       " 0.9107391851289015,\n",
       " 0.057464700343968535,\n",
       " 2.1052647003439686)"
      ]
     },
     "execution_count": 8,
     "metadata": {},
     "output_type": "execute_result"
    }
   ],
   "source": [
    "teoriafilas(25.956047759127877, 29.299736302373276, 3)"
   ]
  },
  {
   "cell_type": "markdown",
   "metadata": {},
   "source": [
    "### Com a taxa de chamada duplicada:"
   ]
  },
  {
   "cell_type": "code",
   "execution_count": 9,
   "metadata": {
    "collapsed": false
   },
   "outputs": [
    {
     "data": {
      "text/plain": [
       "(0.5905866066793564,\n",
       " 0.08981728398791707,\n",
       " 0.20335795577352092,\n",
       " 0.29334771895816864,\n",
       " 2.0651075389962377,\n",
       " 0.3390512935718513,\n",
       " 2.3868512935718513)"
      ]
     },
     "execution_count": 9,
     "metadata": {},
     "output_type": "execute_result"
    }
   ],
   "source": [
    "teoriafilas(25.956047759127877*2, 29.299736302373276, 3)"
   ]
  },
  {
   "cell_type": "markdown",
   "metadata": {
    "collapsed": false
   },
   "source": [
    "*g)* A ocupação do sistema:\n",
    "$$\\rho = 29,53\\ \\% $$\n",
    "\n",
    "*h)* A probabilidade de o sistema estar vazio:\n",
    "$$P_{0} = 0,3608$$\n",
    "\n",
    "*i)* A probabilidade de todos os servidores estarem ocupados:\n",
    "$$P = 0,0593$$\n",
    "\n",
    "*j)* O número esperado de usuários no sistema:\n",
    "$$L = 0,91$$\n",
    "\n",
    "*k)* O número esperado de usuários na fila:\n",
    "$$L_{q} = 0,02$$\n",
    "\n",
    "*l)* O tempo médio dos usuários na fila:\n",
    "$$W_{q} = 0,06\\ min$$\n",
    "\n",
    "*m)* O tempo provável dos usuários no sistema:\n",
    "$$W = 2,11\\ min$$\n",
    "\n",
    "*n)* Se a taxa de chamadas duplicasse, o que aconteceria com o sistema? E quais as\n",
    "providências que deveriam ser tomadas.\n",
    "\n",
    "    Caso a taxa de chamadas duplicasse, os seguintes valores teriam sido obtidos:\n",
    "$$\\rho = 55,06\\ \\%$$\n",
    "$$P_{0} = 0,0898$$\n",
    "$$P = 0,2034$$\n",
    "$$L = 2,07$$\n",
    "$$L_{q} = 0,29$$\n",
    "$$W_{q} = 0,34\\ min$$\n",
    "$$W = 2,37\\ min$$\n",
    "\n",
    "    Mesmo nesse caso o sistema ainda estaria com capacidade de atender bem os usuários.\n",
    "    No local ainda havia outros guichês fechados, que poderiam funcionar em dias de maior demanda.\n",
    "    No dia do levantamento, ocorreram duas sessões no cinema às 9 horas. \n",
    "    Provavelmente o motivo da taxa de ocupação do sistema estar tão baixa é porque as salas de cinema não encheram."
   ]
  }
 ],
 "metadata": {
  "kernelspec": {
   "display_name": "Python 3",
   "language": "python",
   "name": "python3"
  },
  "language_info": {
   "codemirror_mode": {
    "name": "ipython",
    "version": 3
   },
   "file_extension": ".py",
   "mimetype": "text/x-python",
   "name": "python",
   "nbconvert_exporter": "python",
   "pygments_lexer": "ipython3",
   "version": "3.5.1"
  }
 },
 "nbformat": 4,
 "nbformat_minor": 0
}
